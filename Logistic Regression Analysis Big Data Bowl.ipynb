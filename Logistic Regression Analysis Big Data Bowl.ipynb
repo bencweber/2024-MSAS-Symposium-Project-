{
 "cells": [
  {
   "cell_type": "code",
   "execution_count": 67,
   "id": "72d651a0",
   "metadata": {},
   "outputs": [],
   "source": [
    "import pandas as pd\n",
    "import numpy as np"
   ]
  },
  {
   "cell_type": "code",
   "execution_count": 68,
   "id": "c93dd639",
   "metadata": {},
   "outputs": [],
   "source": [
    "import seaborn as sns"
   ]
  },
  {
   "cell_type": "code",
   "execution_count": 75,
   "id": "54705743",
   "metadata": {},
   "outputs": [],
   "source": [
    "pbp = pd.read_csv('pbp.csv')"
   ]
  },
  {
   "cell_type": "code",
   "execution_count": 86,
   "id": "61216c7e",
   "metadata": {},
   "outputs": [
    {
     "data": {
      "text/plain": [
       "<AxesSubplot:xlabel='forceGeneratedSpotTackle', ylabel='forcedFumble'>"
      ]
     },
     "execution_count": 86,
     "metadata": {},
     "output_type": "execute_result"
    },
    {
     "data": {
      "image/png": "[encoded data removed]",
      "text/plain": [
       "<Figure size 432x288 with 1 Axes>"
      ]
     },
     "metadata": {
      "needs_background": "light"
     },
     "output_type": "display_data"
    }
   ],
   "source": [
    "forceGenerated = pbp['forceGeneratedSpotTackle']\n",
    "ff = pbp['forcedFumble']\n",
    "\n",
    "sns.regplot(x=forceGenerated, y=ff, data=pbp, logistic=True)"
   ]
  },
  {
   "cell_type": "code",
   "execution_count": 5,
   "id": "5b31ef80",
   "metadata": {},
   "outputs": [
    {
     "data": {
      "text/plain": [
       "Index(['Unnamed: 0.1', 'Unnamed: 0', 'gameId', 'playId', 'ballCarrierId',\n",
       "       'tacklerNflId', 'ballCarrierDisplayName', 'ballCarrierPos',\n",
       "       'tacklerName', 'tacklerPos', 'quarter', 'down', 'yardsToGo',\n",
       "       'possessionTeam', 'defensiveTeam', 'playDescription', 'yardlineSide',\n",
       "       'yardlineNumber', 'gameClock', 'preSnapHomeScore',\n",
       "       'preSnapVisitorScore', 'passResult', 'passLength', 'penaltyYards',\n",
       "       'prePenaltyPlayResult', 'playResult', 'playNullifiedByPenalty',\n",
       "       'absoluteYardlineNumber', 'offenseFormation', 'defendersInTheBox',\n",
       "       'passProbability', 'preSnapHomeTeamWinProbability',\n",
       "       'preSnapVisitorTeamWinProbability', 'homeTeamWinProbabilityAdded',\n",
       "       'visitorTeamWinProbilityAdded', 'expectedPoints', 'expectedPointsAdded',\n",
       "       'tackle', 'ballCarrierHeight', 'ballCarrierWeight', 'tacklerHeight',\n",
       "       'tacklerWeight', 'tacklerPlayDirection', 'tacklerX', 'tacklerY',\n",
       "       'tacklerSpeed', 'tacklerAcc', 'tacklerOrientation',\n",
       "       'tacklerDirectionAngle', 'ballCarrierPlayDirection', 'ballCarrierX',\n",
       "       'ballCarrierY', 'ballCarrierSpeed', 'ballCarrierAcc',\n",
       "       'ballCarrierOrientation', 'ballCarrierDirectionAngle', 'tacklerMass',\n",
       "       'ballCarrierMass', 'differenceAngularDirection', 'forceTackler',\n",
       "       'forceBallCarrier', 'addedForceComponent', 'forceGeneratedSpotTackle',\n",
       "       'forcedFumble', 'diffPreSnapWinProbability', 'diffWeight', 'diffForce',\n",
       "       'firstDownLine', 'diffAcc', 'diffSpeed', 'absoluteSpotOfTackle',\n",
       "       'disFromFirstDown', 'disToFirstDown', 'diffInOrientationVsDir',\n",
       "       'diffInOrientationVsDirTackler', 'diffInOrientationVsDirBallCarrier',\n",
       "       'tackleAngle'],\n",
       "      dtype='object')"
      ]
     },
     "execution_count": 5,
     "metadata": {},
     "output_type": "execute_result"
    }
   ],
   "source": [
    "pbp.columns"
   ]
  },
  {
   "cell_type": "code",
   "execution_count": 6,
   "id": "f743c303",
   "metadata": {},
   "outputs": [],
   "source": [
    "pbp['diffPreSnapWinProbability'] = abs(pbp['preSnapHomeTeamWinProbability'] - pbp['preSnapVisitorTeamWinProbability'])"
   ]
  },
  {
   "cell_type": "code",
   "execution_count": 7,
   "id": "370af797",
   "metadata": {},
   "outputs": [],
   "source": [
    "pbp['diffWeight'] = pbp['tacklerWeight'] - pbp['ballCarrierWeight']"
   ]
  },
  {
   "cell_type": "code",
   "execution_count": 8,
   "id": "eacd0a00",
   "metadata": {},
   "outputs": [],
   "source": [
    "pbp['diffForce'] = abs(pbp['forceTackler'] - pbp['forceBallCarrier'])"
   ]
  },
  {
   "cell_type": "code",
   "execution_count": 9,
   "id": "89306796",
   "metadata": {},
   "outputs": [],
   "source": [
    "pbp['firstDownLine'] = pbp['absoluteYardlineNumber'] - pbp['yardsToGo']"
   ]
  },
  {
   "cell_type": "markdown",
   "id": "1d58fa3b",
   "metadata": {},
   "source": [
    "Make function to determine position of ball carrier relative to the line to gain"
   ]
  },
  {
   "cell_type": "code",
   "execution_count": 10,
   "id": "1513a6c8",
   "metadata": {},
   "outputs": [],
   "source": [
    "isPlayRight = pbp['ballCarrierPlayDirection'] == True"
   ]
  },
  {
   "cell_type": "code",
   "execution_count": 11,
   "id": "a68a7a9c",
   "metadata": {},
   "outputs": [],
   "source": [
    "pbp['absoluteSpotOfTackle'] = pbp['ballCarrierX'] - 10"
   ]
  },
  {
   "cell_type": "code",
   "execution_count": 12,
   "id": "2b162ed9",
   "metadata": {},
   "outputs": [
    {
     "name": "stderr",
     "output_type": "stream",
     "text": [
      "C:\\Users\\bwebe\\AppData\\Local\\Temp\\ipykernel_12000\\2625087476.py:6: SettingWithCopyWarning: \n",
      "A value is trying to be set on a copy of a slice from a DataFrame\n",
      "\n",
      "See the caveats in the documentation: https://pandas.pydata.org/pandas-docs/stable/user_guide/indexing.html#returning-a-view-versus-a-copy\n",
      "  pbp['disFromFirstDown'][num] = (abs(item - pbp['firstDownLine'][num]))\n",
      "C:\\Users\\bwebe\\AppData\\Local\\Temp\\ipykernel_12000\\2625087476.py:7: SettingWithCopyWarning: \n",
      "A value is trying to be set on a copy of a slice from a DataFrame\n",
      "\n",
      "See the caveats in the documentation: https://pandas.pydata.org/pandas-docs/stable/user_guide/indexing.html#returning-a-view-versus-a-copy\n",
      "  pbp['disToFirstDown'][num] = item - pbp['firstDownLine'][num]\n"
     ]
    }
   ],
   "source": [
    "pbp['disFromFirstDown'] = 0\n",
    "pbp['disToFirstDown'] = 0\n",
    "for num, item in enumerate(pbp['absoluteSpotOfTackle']):\n",
    "    if (isPlayRight[num] == True):\n",
    "        item = -(item - 100)\n",
    "    pbp['disFromFirstDown'][num] = (abs(item - pbp['firstDownLine'][num]))\n",
    "    pbp['disToFirstDown'][num] = item - pbp['firstDownLine'][num]\n",
    "        \n",
    "    "
   ]
  },
  {
   "cell_type": "code",
   "execution_count": 13,
   "id": "3eb72e3c",
   "metadata": {},
   "outputs": [
    {
     "data": {
      "text/plain": [
       "0       -5.67\n",
       "1      -11.90\n",
       "2       -5.31\n",
       "3      -12.11\n",
       "4      -13.39\n",
       "        ...  \n",
       "8198    -1.78\n",
       "8199    23.47\n",
       "8200    10.22\n",
       "8201    -0.28\n",
       "8202   -14.70\n",
       "Name: disToFirstDown, Length: 8203, dtype: float64"
      ]
     },
     "execution_count": 13,
     "metadata": {},
     "output_type": "execute_result"
    }
   ],
   "source": [
    "pbp['disToFirstDown']"
   ]
  },
  {
   "cell_type": "code",
   "execution_count": 14,
   "id": "609712a0",
   "metadata": {},
   "outputs": [
    {
     "data": {
      "text/plain": [
       "0.21978021978021978"
      ]
     },
     "execution_count": 14,
     "metadata": {},
     "output_type": "execute_result"
    }
   ],
   "source": [
    "len(pbp[(pbp['disToFirstDown'] >= -2) & (pbp['disToFirstDown'] <= 3) & (pbp['forcedFumble'] == 1)]) / 91"
   ]
  },
  {
   "cell_type": "code",
   "execution_count": 15,
   "id": "3421f4b4",
   "metadata": {},
   "outputs": [
    {
     "data": {
      "text/plain": [
       "0.21696252465483234"
      ]
     },
     "execution_count": 15,
     "metadata": {},
     "output_type": "execute_result"
    }
   ],
   "source": [
    "len(pbp[(pbp['disToFirstDown'] >= -2) & (pbp['disToFirstDown'] <= 3) & (pbp['forcedFumble'] == 0)]) / (len(pbp) - 91)"
   ]
  },
  {
   "cell_type": "code",
   "execution_count": 16,
   "id": "592a3308",
   "metadata": {},
   "outputs": [
    {
     "data": {
      "text/plain": [
       "0.4065934065934066"
      ]
     },
     "execution_count": 16,
     "metadata": {},
     "output_type": "execute_result"
    }
   ],
   "source": [
    "len(pbp[(pbp['disFromFirstDown'] <= 5) & (pbp['forcedFumble'] == 1)]) / 91"
   ]
  },
  {
   "cell_type": "code",
   "execution_count": 17,
   "id": "d14aeae2",
   "metadata": {},
   "outputs": [
    {
     "data": {
      "text/plain": [
       "0.4297337278106509"
      ]
     },
     "execution_count": 17,
     "metadata": {},
     "output_type": "execute_result"
    }
   ],
   "source": [
    "len(pbp[(pbp['disFromFirstDown'] <= 5) & (pbp['forcedFumble'] == 0)]) / (len(pbp) - 91)"
   ]
  },
  {
   "cell_type": "code",
   "execution_count": 18,
   "id": "52ef862b",
   "metadata": {},
   "outputs": [],
   "source": [
    "pbp.to_csv('pbp.csv')"
   ]
  },
  {
   "cell_type": "code",
   "execution_count": 19,
   "id": "482e8c58",
   "metadata": {},
   "outputs": [
    {
     "data": {
      "text/plain": [
       "Index(['Unnamed: 0.1', 'Unnamed: 0', 'gameId', 'playId', 'ballCarrierId',\n",
       "       'tacklerNflId', 'ballCarrierDisplayName', 'ballCarrierPos',\n",
       "       'tacklerName', 'tacklerPos', 'quarter', 'down', 'yardsToGo',\n",
       "       'possessionTeam', 'defensiveTeam', 'playDescription', 'yardlineSide',\n",
       "       'yardlineNumber', 'gameClock', 'preSnapHomeScore',\n",
       "       'preSnapVisitorScore', 'passResult', 'passLength', 'penaltyYards',\n",
       "       'prePenaltyPlayResult', 'playResult', 'playNullifiedByPenalty',\n",
       "       'absoluteYardlineNumber', 'offenseFormation', 'defendersInTheBox',\n",
       "       'passProbability', 'preSnapHomeTeamWinProbability',\n",
       "       'preSnapVisitorTeamWinProbability', 'homeTeamWinProbabilityAdded',\n",
       "       'visitorTeamWinProbilityAdded', 'expectedPoints', 'expectedPointsAdded',\n",
       "       'tackle', 'ballCarrierHeight', 'ballCarrierWeight', 'tacklerHeight',\n",
       "       'tacklerWeight', 'tacklerPlayDirection', 'tacklerX', 'tacklerY',\n",
       "       'tacklerSpeed', 'tacklerAcc', 'tacklerOrientation',\n",
       "       'tacklerDirectionAngle', 'ballCarrierPlayDirection', 'ballCarrierX',\n",
       "       'ballCarrierY', 'ballCarrierSpeed', 'ballCarrierAcc',\n",
       "       'ballCarrierOrientation', 'ballCarrierDirectionAngle', 'tacklerMass',\n",
       "       'ballCarrierMass', 'differenceAngularDirection', 'forceTackler',\n",
       "       'forceBallCarrier', 'addedForceComponent', 'forceGeneratedSpotTackle',\n",
       "       'forcedFumble', 'diffPreSnapWinProbability', 'diffWeight', 'diffForce',\n",
       "       'firstDownLine', 'diffAcc', 'diffSpeed', 'absoluteSpotOfTackle',\n",
       "       'disFromFirstDown', 'disToFirstDown', 'diffInOrientationVsDir',\n",
       "       'diffInOrientationVsDirTackler', 'diffInOrientationVsDirBallCarrier',\n",
       "       'tackleAngle'],\n",
       "      dtype='object')"
      ]
     },
     "execution_count": 19,
     "metadata": {},
     "output_type": "execute_result"
    }
   ],
   "source": [
    "pbp.columns"
   ]
  },
  {
   "cell_type": "code",
   "execution_count": 20,
   "id": "a4799be9",
   "metadata": {},
   "outputs": [],
   "source": [
    "import statsmodels.api as sm\n",
    "import statsmodels.formula.api as smf"
   ]
  },
  {
   "cell_type": "code",
   "execution_count": 21,
   "id": "69c1ca4c",
   "metadata": {},
   "outputs": [
    {
     "name": "stderr",
     "output_type": "stream",
     "text": [
      "C:\\Users\\bwebe\\AppData\\Local\\Temp\\ipykernel_12000\\4098036765.py:15: SettingWithCopyWarning: \n",
      "A value is trying to be set on a copy of a slice from a DataFrame\n",
      "\n",
      "See the caveats in the documentation: https://pandas.pydata.org/pandas-docs/stable/user_guide/indexing.html#returning-a-view-versus-a-copy\n",
      "  pbp['diffInOrientationVsDirTackler'][num] = diffInODir\n"
     ]
    }
   ],
   "source": [
    "pbp['diffInOrientationVsDirTackler'] = 0\n",
    "def OvsDir(O, Dir):\n",
    "    for num, item in enumerate(O):\n",
    "        diffInODir = 0\n",
    "        d = Dir[num]\n",
    "        if (abs(item - Dir[num]) >= 180):\n",
    "            if(item <= 100):\n",
    "                diffInODir = item + 360\n",
    "                diffInODir = abs(diffInODir - d)\n",
    "            else:\n",
    "                diffInODir = d + 360\n",
    "                diffInODir = abs(diffInODir - item)\n",
    "        else:\n",
    "            diffInODir = abs(item - d)\n",
    "        pbp['diffInOrientationVsDirTackler'][num] = diffInODir\n",
    "        \n",
    "OvsDir(pbp['tacklerOrientation'], pbp['tacklerDirectionAngle'])"
   ]
  },
  {
   "cell_type": "code",
   "execution_count": 22,
   "id": "01a4c97a",
   "metadata": {},
   "outputs": [
    {
     "data": {
      "text/plain": [
       "0       11.55\n",
       "1        9.01\n",
       "2       12.66\n",
       "3       43.37\n",
       "4       15.88\n",
       "        ...  \n",
       "8198    32.65\n",
       "8199    65.67\n",
       "8200     0.15\n",
       "8201     9.55\n",
       "8202    26.74\n",
       "Name: diffInOrientationVsDirTackler, Length: 8203, dtype: float64"
      ]
     },
     "execution_count": 22,
     "metadata": {},
     "output_type": "execute_result"
    }
   ],
   "source": [
    "pbp['diffInOrientationVsDirTackler']"
   ]
  },
  {
   "cell_type": "code",
   "execution_count": 23,
   "id": "2c7b43fa",
   "metadata": {},
   "outputs": [],
   "source": [
    "tacklerAlignment = pbp['diffInOrientationVsDirTackler']"
   ]
  },
  {
   "cell_type": "code",
   "execution_count": 24,
   "id": "4fbd723c",
   "metadata": {},
   "outputs": [
    {
     "name": "stderr",
     "output_type": "stream",
     "text": [
      "C:\\Users\\bwebe\\AppData\\Local\\Temp\\ipykernel_12000\\596152775.py:15: SettingWithCopyWarning: \n",
      "A value is trying to be set on a copy of a slice from a DataFrame\n",
      "\n",
      "See the caveats in the documentation: https://pandas.pydata.org/pandas-docs/stable/user_guide/indexing.html#returning-a-view-versus-a-copy\n",
      "  pbp['diffInOrientationVsDirBallCarrier'][num] = diffInODir\n"
     ]
    }
   ],
   "source": [
    "pbp['diffInOrientationVsDirBallCarrier'] = 0\n",
    "def OvsDir(O, Dir):\n",
    "    for num, item in enumerate(O):\n",
    "        diffInODir = 0\n",
    "        d = Dir[num]\n",
    "        if (abs(item - Dir[num]) >= 180):\n",
    "            if(item <= 100):\n",
    "                diffInODir = item + 360\n",
    "                diffInODir = abs(diffInODir - d)\n",
    "            else:\n",
    "                diffInODir = d + 360\n",
    "                diffInODir = abs(diffInODir - item)\n",
    "        else:\n",
    "            diffInODir = abs(item - d)\n",
    "        pbp['diffInOrientationVsDirBallCarrier'][num] = diffInODir\n",
    "        \n",
    "OvsDir(pbp['ballCarrierOrientation'], pbp['ballCarrierDirectionAngle'])"
   ]
  },
  {
   "cell_type": "code",
   "execution_count": 25,
   "id": "dbebf1f0",
   "metadata": {},
   "outputs": [],
   "source": [
    "ballCarrierAlignment = pbp['diffInOrientationVsDirBallCarrier']"
   ]
  },
  {
   "cell_type": "code",
   "execution_count": 26,
   "id": "9f770e98",
   "metadata": {},
   "outputs": [],
   "source": [
    "pbp.to_csv('pbp.csv')"
   ]
  },
  {
   "cell_type": "markdown",
   "id": "6261ac40",
   "metadata": {},
   "source": [
    "Angle of tackle calculation: (180 degrees being face on while 0 degrees being directly behind)"
   ]
  },
  {
   "cell_type": "code",
   "execution_count": 27,
   "id": "0ed02740",
   "metadata": {},
   "outputs": [
    {
     "name": "stderr",
     "output_type": "stream",
     "text": [
      "C:\\Users\\bwebe\\AppData\\Local\\Temp\\ipykernel_12000\\2438006892.py:15: SettingWithCopyWarning: \n",
      "A value is trying to be set on a copy of a slice from a DataFrame\n",
      "\n",
      "See the caveats in the documentation: https://pandas.pydata.org/pandas-docs/stable/user_guide/indexing.html#returning-a-view-versus-a-copy\n",
      "  pbp['tackleAngle'][num] = ta\n"
     ]
    }
   ],
   "source": [
    "pbp['tackleAngle'] = 0\n",
    "def angleOfTackle(Ocarrier, dirTackler):\n",
    "    for num, item in enumerate(Ocarrier):\n",
    "        ta = 0\n",
    "        d = dirTackler[num]\n",
    "        if (abs(item - d) >= 180):\n",
    "            if (item >= 180):\n",
    "                d = d + 360\n",
    "                ta = abs(item - d)\n",
    "            elif (item <= 180):\n",
    "                item = item + 360\n",
    "                ta = abs(item - d)\n",
    "        else:\n",
    "            ta = abs(item - d)\n",
    "        pbp['tackleAngle'][num] = ta\n",
    "        \n",
    "angleOfTackle(pbp['ballCarrierOrientation'], pbp['tacklerDirectionAngle'])"
   ]
  },
  {
   "cell_type": "code",
   "execution_count": 28,
   "id": "c62ae43e",
   "metadata": {},
   "outputs": [],
   "source": [
    "tackleAngle = pbp['tackleAngle']"
   ]
  },
  {
   "cell_type": "code",
   "execution_count": 29,
   "id": "bf2e7529",
   "metadata": {},
   "outputs": [],
   "source": [
    "pbp['tackleDisFromCenter'] = abs(pbp['tacklerY'] - 26.65)"
   ]
  },
  {
   "cell_type": "code",
   "execution_count": 30,
   "id": "4520f540",
   "metadata": {},
   "outputs": [],
   "source": [
    "disFromCenter = pbp['tackleDisFromCenter']"
   ]
  },
  {
   "cell_type": "code",
   "execution_count": 34,
   "id": "3f62082f",
   "metadata": {},
   "outputs": [],
   "source": [
    "newpbp = pd.read_csv('newpbp.csv')"
   ]
  },
  {
   "cell_type": "code",
   "execution_count": 35,
   "id": "30411e09",
   "metadata": {},
   "outputs": [
    {
     "data": {
      "text/html": [
       "<div>\n",
       "<style scoped>\n",
       "    .dataframe tbody tr th:only-of-type {\n",
       "        vertical-align: middle;\n",
       "    }\n",
       "\n",
       "    .dataframe tbody tr th {\n",
       "        vertical-align: top;\n",
       "    }\n",
       "\n",
       "    .dataframe thead th {\n",
       "        text-align: right;\n",
       "    }\n",
       "</style>\n",
       "<table border=\"1\" class=\"dataframe\">\n",
       "  <thead>\n",
       "    <tr style=\"text-align: right;\">\n",
       "      <th></th>\n",
       "      <th>gameId</th>\n",
       "      <th>playId</th>\n",
       "      <th>ballCarrierId</th>\n",
       "      <th>tacklerNflId</th>\n",
       "      <th>ballCarrierDisplayName</th>\n",
       "      <th>ballCarrierPos</th>\n",
       "      <th>tacklerName</th>\n",
       "      <th>tacklerPos</th>\n",
       "      <th>quarter</th>\n",
       "      <th>down</th>\n",
       "      <th>...</th>\n",
       "      <th>tacklerAcc</th>\n",
       "      <th>tacklerOrientation</th>\n",
       "      <th>tacklerDirectionAngle</th>\n",
       "      <th>ballCarrierPlayDirection</th>\n",
       "      <th>ballCarrierX</th>\n",
       "      <th>ballCarrierY</th>\n",
       "      <th>ballCarrierSpeed</th>\n",
       "      <th>ballCarrierrAcc</th>\n",
       "      <th>ballCarrierrOrientation</th>\n",
       "      <th>ballCarrierDirectionAngle</th>\n",
       "    </tr>\n",
       "  </thead>\n",
       "  <tbody>\n",
       "    <tr>\n",
       "      <th>0</th>\n",
       "      <td>2022100908</td>\n",
       "      <td>3537</td>\n",
       "      <td>48723</td>\n",
       "      <td>43306.0</td>\n",
       "      <td>Parker Hesse</td>\n",
       "      <td>TE</td>\n",
       "      <td>Keanu Neal</td>\n",
       "      <td>FS</td>\n",
       "      <td>4</td>\n",
       "      <td>1</td>\n",
       "      <td>...</td>\n",
       "      <td>1.77</td>\n",
       "      <td>77.58</td>\n",
       "      <td>75.43</td>\n",
       "      <td>left</td>\n",
       "      <td>62.52</td>\n",
       "      <td>28.72</td>\n",
       "      <td>3.30</td>\n",
       "      <td>1.62</td>\n",
       "      <td>225.64</td>\n",
       "      <td>252.68</td>\n",
       "    </tr>\n",
       "    <tr>\n",
       "      <th>1</th>\n",
       "      <td>2022100908</td>\n",
       "      <td>3537</td>\n",
       "      <td>48723</td>\n",
       "      <td>43306.0</td>\n",
       "      <td>Parker Hesse</td>\n",
       "      <td>TE</td>\n",
       "      <td>Keanu Neal</td>\n",
       "      <td>FS</td>\n",
       "      <td>4</td>\n",
       "      <td>1</td>\n",
       "      <td>...</td>\n",
       "      <td>2.95</td>\n",
       "      <td>188.62</td>\n",
       "      <td>183.23</td>\n",
       "      <td>left</td>\n",
       "      <td>60.61</td>\n",
       "      <td>27.36</td>\n",
       "      <td>1.02</td>\n",
       "      <td>0.86</td>\n",
       "      <td>251.91</td>\n",
       "      <td>244.70</td>\n",
       "    </tr>\n",
       "    <tr>\n",
       "      <th>2</th>\n",
       "      <td>2022091103</td>\n",
       "      <td>3126</td>\n",
       "      <td>52457</td>\n",
       "      <td>44872.0</td>\n",
       "      <td>Chase Claypool</td>\n",
       "      <td>WR</td>\n",
       "      <td>Chidobe Awuzie</td>\n",
       "      <td>CB</td>\n",
       "      <td>4</td>\n",
       "      <td>1</td>\n",
       "      <td>...</td>\n",
       "      <td>1.20</td>\n",
       "      <td>116.44</td>\n",
       "      <td>21.08</td>\n",
       "      <td>left</td>\n",
       "      <td>80.25</td>\n",
       "      <td>30.28</td>\n",
       "      <td>7.68</td>\n",
       "      <td>0.69</td>\n",
       "      <td>353.90</td>\n",
       "      <td>7.31</td>\n",
       "    </tr>\n",
       "    <tr>\n",
       "      <th>3</th>\n",
       "      <td>2022091103</td>\n",
       "      <td>3126</td>\n",
       "      <td>52457</td>\n",
       "      <td>44872.0</td>\n",
       "      <td>Chase Claypool</td>\n",
       "      <td>WR</td>\n",
       "      <td>Chidobe Awuzie</td>\n",
       "      <td>CB</td>\n",
       "      <td>4</td>\n",
       "      <td>1</td>\n",
       "      <td>...</td>\n",
       "      <td>1.88</td>\n",
       "      <td>300.76</td>\n",
       "      <td>110.05</td>\n",
       "      <td>left</td>\n",
       "      <td>72.66</td>\n",
       "      <td>51.82</td>\n",
       "      <td>3.36</td>\n",
       "      <td>2.05</td>\n",
       "      <td>326.10</td>\n",
       "      <td>281.94</td>\n",
       "    </tr>\n",
       "    <tr>\n",
       "      <th>4</th>\n",
       "      <td>2022091103</td>\n",
       "      <td>3126</td>\n",
       "      <td>52457</td>\n",
       "      <td>47855.0</td>\n",
       "      <td>Chase Claypool</td>\n",
       "      <td>WR</td>\n",
       "      <td>Germaine Pratt</td>\n",
       "      <td>OLB</td>\n",
       "      <td>4</td>\n",
       "      <td>1</td>\n",
       "      <td>...</td>\n",
       "      <td>2.92</td>\n",
       "      <td>104.09</td>\n",
       "      <td>78.82</td>\n",
       "      <td>left</td>\n",
       "      <td>80.25</td>\n",
       "      <td>30.28</td>\n",
       "      <td>7.68</td>\n",
       "      <td>0.69</td>\n",
       "      <td>353.90</td>\n",
       "      <td>7.31</td>\n",
       "    </tr>\n",
       "  </tbody>\n",
       "</table>\n",
       "<p>5 rows × 58 columns</p>\n",
       "</div>"
      ],
      "text/plain": [
       "       gameId  playId  ballCarrierId  tacklerNflId ballCarrierDisplayName  \\\n",
       "0  2022100908    3537          48723       43306.0           Parker Hesse   \n",
       "1  2022100908    3537          48723       43306.0           Parker Hesse   \n",
       "2  2022091103    3126          52457       44872.0         Chase Claypool   \n",
       "3  2022091103    3126          52457       44872.0         Chase Claypool   \n",
       "4  2022091103    3126          52457       47855.0         Chase Claypool   \n",
       "\n",
       "  ballCarrierPos     tacklerName tacklerPos  quarter  down  ...  tacklerAcc  \\\n",
       "0             TE      Keanu Neal         FS        4     1  ...        1.77   \n",
       "1             TE      Keanu Neal         FS        4     1  ...        2.95   \n",
       "2             WR  Chidobe Awuzie         CB        4     1  ...        1.20   \n",
       "3             WR  Chidobe Awuzie         CB        4     1  ...        1.88   \n",
       "4             WR  Germaine Pratt        OLB        4     1  ...        2.92   \n",
       "\n",
       "  tacklerOrientation tacklerDirectionAngle ballCarrierPlayDirection  \\\n",
       "0              77.58                 75.43                     left   \n",
       "1             188.62                183.23                     left   \n",
       "2             116.44                 21.08                     left   \n",
       "3             300.76                110.05                     left   \n",
       "4             104.09                 78.82                     left   \n",
       "\n",
       "  ballCarrierX  ballCarrierY ballCarrierSpeed  ballCarrierrAcc  \\\n",
       "0        62.52         28.72             3.30             1.62   \n",
       "1        60.61         27.36             1.02             0.86   \n",
       "2        80.25         30.28             7.68             0.69   \n",
       "3        72.66         51.82             3.36             2.05   \n",
       "4        80.25         30.28             7.68             0.69   \n",
       "\n",
       "   ballCarrierrOrientation ballCarrierDirectionAngle  \n",
       "0                   225.64                    252.68  \n",
       "1                   251.91                    244.70  \n",
       "2                   353.90                      7.31  \n",
       "3                   326.10                    281.94  \n",
       "4                   353.90                      7.31  \n",
       "\n",
       "[5 rows x 58 columns]"
      ]
     },
     "execution_count": 35,
     "metadata": {},
     "output_type": "execute_result"
    }
   ],
   "source": [
    "newpbp.head()"
   ]
  },
  {
   "cell_type": "code",
   "execution_count": 36,
   "id": "1e24e370",
   "metadata": {},
   "outputs": [
    {
     "data": {
      "text/plain": [
       "Index(['gameId', 'playId', 'ballCarrierId', 'tacklerNflId',\n",
       "       'ballCarrierDisplayName', 'ballCarrierPos', 'tacklerName', 'tacklerPos',\n",
       "       'quarter', 'down', 'yardsToGo', 'possessionTeam', 'defensiveTeam',\n",
       "       'playDescription', 'yardlineSide', 'yardlineNumber', 'gameClock',\n",
       "       'preSnapHomeScore', 'preSnapVisitorScore', 'passResult', 'passLength',\n",
       "       'penaltyYards', 'prePenaltyPlayResult', 'playResult', 'event',\n",
       "       'playNullifiedByPenalty', 'absoluteYardlineNumber', 'offenseFormation',\n",
       "       'defendersInTheBox', 'passProbability', 'preSnapHomeTeamWinProbability',\n",
       "       'preSnapVisitorTeamWinProbability', 'homeTeamWinProbabilityAdded',\n",
       "       'visitorTeamWinProbilityAdded', 'expectedPoints', 'expectedPointsAdded',\n",
       "       'tackle', 'assist', 'forcedFumble', 'pff_missedTackle',\n",
       "       'ballCarrierHeight', 'ballCarrierWeight', 'tacklerHeight',\n",
       "       'tacklerWeight', 'tacklerPlayDirection', 'tacklerX', 'tacklerY',\n",
       "       'tacklerSpeed', 'tacklerAcc', 'tacklerOrientation',\n",
       "       'tacklerDirectionAngle', 'ballCarrierPlayDirection', 'ballCarrierX',\n",
       "       'ballCarrierY', 'ballCarrierSpeed', 'ballCarrierrAcc',\n",
       "       'ballCarrierrOrientation', 'ballCarrierDirectionAngle'],\n",
       "      dtype='object')"
      ]
     },
     "execution_count": 36,
     "metadata": {},
     "output_type": "execute_result"
    }
   ],
   "source": [
    "newpbp.columns"
   ]
  },
  {
   "cell_type": "code",
   "execution_count": 37,
   "id": "166a466a",
   "metadata": {},
   "outputs": [
    {
     "data": {
      "text/html": [
       "<div>\n",
       "<style scoped>\n",
       "    .dataframe tbody tr th:only-of-type {\n",
       "        vertical-align: middle;\n",
       "    }\n",
       "\n",
       "    .dataframe tbody tr th {\n",
       "        vertical-align: top;\n",
       "    }\n",
       "\n",
       "    .dataframe thead th {\n",
       "        text-align: right;\n",
       "    }\n",
       "</style>\n",
       "<table border=\"1\" class=\"dataframe\">\n",
       "  <thead>\n",
       "    <tr style=\"text-align: right;\">\n",
       "      <th></th>\n",
       "      <th></th>\n",
       "      <th>ballCarrierId</th>\n",
       "      <th>tacklerNflId</th>\n",
       "      <th>ballCarrierDisplayName</th>\n",
       "      <th>ballCarrierPos</th>\n",
       "      <th>tacklerName</th>\n",
       "      <th>tacklerPos</th>\n",
       "      <th>quarter</th>\n",
       "      <th>down</th>\n",
       "      <th>yardsToGo</th>\n",
       "      <th>possessionTeam</th>\n",
       "      <th>...</th>\n",
       "      <th>tacklerAcc</th>\n",
       "      <th>tacklerOrientation</th>\n",
       "      <th>tacklerDirectionAngle</th>\n",
       "      <th>ballCarrierPlayDirection</th>\n",
       "      <th>ballCarrierX</th>\n",
       "      <th>ballCarrierY</th>\n",
       "      <th>ballCarrierSpeed</th>\n",
       "      <th>ballCarrierrAcc</th>\n",
       "      <th>ballCarrierrOrientation</th>\n",
       "      <th>ballCarrierDirectionAngle</th>\n",
       "    </tr>\n",
       "    <tr>\n",
       "      <th>gameId</th>\n",
       "      <th>playId</th>\n",
       "      <th></th>\n",
       "      <th></th>\n",
       "      <th></th>\n",
       "      <th></th>\n",
       "      <th></th>\n",
       "      <th></th>\n",
       "      <th></th>\n",
       "      <th></th>\n",
       "      <th></th>\n",
       "      <th></th>\n",
       "      <th></th>\n",
       "      <th></th>\n",
       "      <th></th>\n",
       "      <th></th>\n",
       "      <th></th>\n",
       "      <th></th>\n",
       "      <th></th>\n",
       "      <th></th>\n",
       "      <th></th>\n",
       "      <th></th>\n",
       "      <th></th>\n",
       "    </tr>\n",
       "  </thead>\n",
       "  <tbody>\n",
       "    <tr>\n",
       "      <th rowspan=\"2\" valign=\"top\">2022100908</th>\n",
       "      <th>3537</th>\n",
       "      <td>48723</td>\n",
       "      <td>43306.0</td>\n",
       "      <td>Parker Hesse</td>\n",
       "      <td>TE</td>\n",
       "      <td>Keanu Neal</td>\n",
       "      <td>FS</td>\n",
       "      <td>4</td>\n",
       "      <td>1</td>\n",
       "      <td>10</td>\n",
       "      <td>ATL</td>\n",
       "      <td>...</td>\n",
       "      <td>1.77</td>\n",
       "      <td>77.58</td>\n",
       "      <td>75.43</td>\n",
       "      <td>left</td>\n",
       "      <td>62.52</td>\n",
       "      <td>28.72</td>\n",
       "      <td>3.30</td>\n",
       "      <td>1.62</td>\n",
       "      <td>225.64</td>\n",
       "      <td>252.68</td>\n",
       "    </tr>\n",
       "    <tr>\n",
       "      <th>3537</th>\n",
       "      <td>48723</td>\n",
       "      <td>43306.0</td>\n",
       "      <td>Parker Hesse</td>\n",
       "      <td>TE</td>\n",
       "      <td>Keanu Neal</td>\n",
       "      <td>FS</td>\n",
       "      <td>4</td>\n",
       "      <td>1</td>\n",
       "      <td>10</td>\n",
       "      <td>ATL</td>\n",
       "      <td>...</td>\n",
       "      <td>2.95</td>\n",
       "      <td>188.62</td>\n",
       "      <td>183.23</td>\n",
       "      <td>left</td>\n",
       "      <td>60.61</td>\n",
       "      <td>27.36</td>\n",
       "      <td>1.02</td>\n",
       "      <td>0.86</td>\n",
       "      <td>251.91</td>\n",
       "      <td>244.70</td>\n",
       "    </tr>\n",
       "    <tr>\n",
       "      <th rowspan=\"3\" valign=\"top\">2022091103</th>\n",
       "      <th>3126</th>\n",
       "      <td>52457</td>\n",
       "      <td>44872.0</td>\n",
       "      <td>Chase Claypool</td>\n",
       "      <td>WR</td>\n",
       "      <td>Chidobe Awuzie</td>\n",
       "      <td>CB</td>\n",
       "      <td>4</td>\n",
       "      <td>1</td>\n",
       "      <td>10</td>\n",
       "      <td>PIT</td>\n",
       "      <td>...</td>\n",
       "      <td>1.20</td>\n",
       "      <td>116.44</td>\n",
       "      <td>21.08</td>\n",
       "      <td>left</td>\n",
       "      <td>80.25</td>\n",
       "      <td>30.28</td>\n",
       "      <td>7.68</td>\n",
       "      <td>0.69</td>\n",
       "      <td>353.90</td>\n",
       "      <td>7.31</td>\n",
       "    </tr>\n",
       "    <tr>\n",
       "      <th>3126</th>\n",
       "      <td>52457</td>\n",
       "      <td>44872.0</td>\n",
       "      <td>Chase Claypool</td>\n",
       "      <td>WR</td>\n",
       "      <td>Chidobe Awuzie</td>\n",
       "      <td>CB</td>\n",
       "      <td>4</td>\n",
       "      <td>1</td>\n",
       "      <td>10</td>\n",
       "      <td>PIT</td>\n",
       "      <td>...</td>\n",
       "      <td>1.88</td>\n",
       "      <td>300.76</td>\n",
       "      <td>110.05</td>\n",
       "      <td>left</td>\n",
       "      <td>72.66</td>\n",
       "      <td>51.82</td>\n",
       "      <td>3.36</td>\n",
       "      <td>2.05</td>\n",
       "      <td>326.10</td>\n",
       "      <td>281.94</td>\n",
       "    </tr>\n",
       "    <tr>\n",
       "      <th>3126</th>\n",
       "      <td>52457</td>\n",
       "      <td>47855.0</td>\n",
       "      <td>Chase Claypool</td>\n",
       "      <td>WR</td>\n",
       "      <td>Germaine Pratt</td>\n",
       "      <td>OLB</td>\n",
       "      <td>4</td>\n",
       "      <td>1</td>\n",
       "      <td>10</td>\n",
       "      <td>PIT</td>\n",
       "      <td>...</td>\n",
       "      <td>2.92</td>\n",
       "      <td>104.09</td>\n",
       "      <td>78.82</td>\n",
       "      <td>left</td>\n",
       "      <td>80.25</td>\n",
       "      <td>30.28</td>\n",
       "      <td>7.68</td>\n",
       "      <td>0.69</td>\n",
       "      <td>353.90</td>\n",
       "      <td>7.31</td>\n",
       "    </tr>\n",
       "    <tr>\n",
       "      <th>...</th>\n",
       "      <th>...</th>\n",
       "      <td>...</td>\n",
       "      <td>...</td>\n",
       "      <td>...</td>\n",
       "      <td>...</td>\n",
       "      <td>...</td>\n",
       "      <td>...</td>\n",
       "      <td>...</td>\n",
       "      <td>...</td>\n",
       "      <td>...</td>\n",
       "      <td>...</td>\n",
       "      <td>...</td>\n",
       "      <td>...</td>\n",
       "      <td>...</td>\n",
       "      <td>...</td>\n",
       "      <td>...</td>\n",
       "      <td>...</td>\n",
       "      <td>...</td>\n",
       "      <td>...</td>\n",
       "      <td>...</td>\n",
       "      <td>...</td>\n",
       "      <td>...</td>\n",
       "    </tr>\n",
       "    <tr>\n",
       "      <th>2022100207</th>\n",
       "      <th>2777</th>\n",
       "      <td>52449</td>\n",
       "      <td>47971.0</td>\n",
       "      <td>Jonathan Taylor</td>\n",
       "      <td>RB</td>\n",
       "      <td>David Long</td>\n",
       "      <td>ILB</td>\n",
       "      <td>3</td>\n",
       "      <td>1</td>\n",
       "      <td>10</td>\n",
       "      <td>IND</td>\n",
       "      <td>...</td>\n",
       "      <td>1.39</td>\n",
       "      <td>12.61</td>\n",
       "      <td>116.12</td>\n",
       "      <td>left</td>\n",
       "      <td>47.68</td>\n",
       "      <td>29.57</td>\n",
       "      <td>0.96</td>\n",
       "      <td>2.37</td>\n",
       "      <td>270.02</td>\n",
       "      <td>96.22</td>\n",
       "    </tr>\n",
       "    <tr>\n",
       "      <th rowspan=\"4\" valign=\"top\">2022102308</th>\n",
       "      <th>905</th>\n",
       "      <td>54572</td>\n",
       "      <td>42391.0</td>\n",
       "      <td>Dameon Pierce</td>\n",
       "      <td>RB</td>\n",
       "      <td>Denzel Perryman</td>\n",
       "      <td>ILB</td>\n",
       "      <td>2</td>\n",
       "      <td>3</td>\n",
       "      <td>1</td>\n",
       "      <td>HOU</td>\n",
       "      <td>...</td>\n",
       "      <td>2.07</td>\n",
       "      <td>64.24</td>\n",
       "      <td>128.13</td>\n",
       "      <td>left</td>\n",
       "      <td>31.32</td>\n",
       "      <td>29.03</td>\n",
       "      <td>3.52</td>\n",
       "      <td>2.91</td>\n",
       "      <td>269.39</td>\n",
       "      <td>244.59</td>\n",
       "    </tr>\n",
       "    <tr>\n",
       "      <th>905</th>\n",
       "      <td>54572</td>\n",
       "      <td>42391.0</td>\n",
       "      <td>Dameon Pierce</td>\n",
       "      <td>RB</td>\n",
       "      <td>Denzel Perryman</td>\n",
       "      <td>ILB</td>\n",
       "      <td>2</td>\n",
       "      <td>3</td>\n",
       "      <td>1</td>\n",
       "      <td>HOU</td>\n",
       "      <td>...</td>\n",
       "      <td>2.80</td>\n",
       "      <td>279.85</td>\n",
       "      <td>323.01</td>\n",
       "      <td>left</td>\n",
       "      <td>24.26</td>\n",
       "      <td>27.88</td>\n",
       "      <td>2.53</td>\n",
       "      <td>3.83</td>\n",
       "      <td>295.88</td>\n",
       "      <td>267.71</td>\n",
       "    </tr>\n",
       "    <tr>\n",
       "      <th>905</th>\n",
       "      <td>54572</td>\n",
       "      <td>53509.0</td>\n",
       "      <td>Dameon Pierce</td>\n",
       "      <td>RB</td>\n",
       "      <td>Divine Deablo</td>\n",
       "      <td>OLB</td>\n",
       "      <td>2</td>\n",
       "      <td>3</td>\n",
       "      <td>1</td>\n",
       "      <td>HOU</td>\n",
       "      <td>...</td>\n",
       "      <td>2.09</td>\n",
       "      <td>105.48</td>\n",
       "      <td>144.67</td>\n",
       "      <td>left</td>\n",
       "      <td>31.32</td>\n",
       "      <td>29.03</td>\n",
       "      <td>3.52</td>\n",
       "      <td>2.91</td>\n",
       "      <td>269.39</td>\n",
       "      <td>244.59</td>\n",
       "    </tr>\n",
       "    <tr>\n",
       "      <th>905</th>\n",
       "      <td>54572</td>\n",
       "      <td>53509.0</td>\n",
       "      <td>Dameon Pierce</td>\n",
       "      <td>RB</td>\n",
       "      <td>Divine Deablo</td>\n",
       "      <td>OLB</td>\n",
       "      <td>2</td>\n",
       "      <td>3</td>\n",
       "      <td>1</td>\n",
       "      <td>HOU</td>\n",
       "      <td>...</td>\n",
       "      <td>1.42</td>\n",
       "      <td>194.75</td>\n",
       "      <td>221.27</td>\n",
       "      <td>left</td>\n",
       "      <td>24.26</td>\n",
       "      <td>27.88</td>\n",
       "      <td>2.53</td>\n",
       "      <td>3.83</td>\n",
       "      <td>295.88</td>\n",
       "      <td>267.71</td>\n",
       "    </tr>\n",
       "  </tbody>\n",
       "</table>\n",
       "<p>32285 rows × 56 columns</p>\n",
       "</div>"
      ],
      "text/plain": [
       "                   ballCarrierId  tacklerNflId ballCarrierDisplayName  \\\n",
       "gameId     playId                                                       \n",
       "2022100908 3537            48723       43306.0           Parker Hesse   \n",
       "           3537            48723       43306.0           Parker Hesse   \n",
       "2022091103 3126            52457       44872.0         Chase Claypool   \n",
       "           3126            52457       44872.0         Chase Claypool   \n",
       "           3126            52457       47855.0         Chase Claypool   \n",
       "...                          ...           ...                    ...   \n",
       "2022100207 2777            52449       47971.0        Jonathan Taylor   \n",
       "2022102308 905             54572       42391.0          Dameon Pierce   \n",
       "           905             54572       42391.0          Dameon Pierce   \n",
       "           905             54572       53509.0          Dameon Pierce   \n",
       "           905             54572       53509.0          Dameon Pierce   \n",
       "\n",
       "                  ballCarrierPos      tacklerName tacklerPos  quarter  down  \\\n",
       "gameId     playId                                                             \n",
       "2022100908 3537               TE       Keanu Neal         FS        4     1   \n",
       "           3537               TE       Keanu Neal         FS        4     1   \n",
       "2022091103 3126               WR   Chidobe Awuzie         CB        4     1   \n",
       "           3126               WR   Chidobe Awuzie         CB        4     1   \n",
       "           3126               WR   Germaine Pratt        OLB        4     1   \n",
       "...                          ...              ...        ...      ...   ...   \n",
       "2022100207 2777               RB       David Long        ILB        3     1   \n",
       "2022102308 905                RB  Denzel Perryman        ILB        2     3   \n",
       "           905                RB  Denzel Perryman        ILB        2     3   \n",
       "           905                RB    Divine Deablo        OLB        2     3   \n",
       "           905                RB    Divine Deablo        OLB        2     3   \n",
       "\n",
       "                   yardsToGo possessionTeam  ... tacklerAcc  \\\n",
       "gameId     playId                            ...              \n",
       "2022100908 3537           10            ATL  ...       1.77   \n",
       "           3537           10            ATL  ...       2.95   \n",
       "2022091103 3126           10            PIT  ...       1.20   \n",
       "           3126           10            PIT  ...       1.88   \n",
       "           3126           10            PIT  ...       2.92   \n",
       "...                      ...            ...  ...        ...   \n",
       "2022100207 2777           10            IND  ...       1.39   \n",
       "2022102308 905             1            HOU  ...       2.07   \n",
       "           905             1            HOU  ...       2.80   \n",
       "           905             1            HOU  ...       2.09   \n",
       "           905             1            HOU  ...       1.42   \n",
       "\n",
       "                  tacklerOrientation tacklerDirectionAngle  \\\n",
       "gameId     playId                                            \n",
       "2022100908 3537                77.58                 75.43   \n",
       "           3537               188.62                183.23   \n",
       "2022091103 3126               116.44                 21.08   \n",
       "           3126               300.76                110.05   \n",
       "           3126               104.09                 78.82   \n",
       "...                              ...                   ...   \n",
       "2022100207 2777                12.61                116.12   \n",
       "2022102308 905                 64.24                128.13   \n",
       "           905                279.85                323.01   \n",
       "           905                105.48                144.67   \n",
       "           905                194.75                221.27   \n",
       "\n",
       "                   ballCarrierPlayDirection ballCarrierX  ballCarrierY  \\\n",
       "gameId     playId                                                        \n",
       "2022100908 3537                        left        62.52         28.72   \n",
       "           3537                        left        60.61         27.36   \n",
       "2022091103 3126                        left        80.25         30.28   \n",
       "           3126                        left        72.66         51.82   \n",
       "           3126                        left        80.25         30.28   \n",
       "...                                     ...          ...           ...   \n",
       "2022100207 2777                        left        47.68         29.57   \n",
       "2022102308 905                         left        31.32         29.03   \n",
       "           905                         left        24.26         27.88   \n",
       "           905                         left        31.32         29.03   \n",
       "           905                         left        24.26         27.88   \n",
       "\n",
       "                   ballCarrierSpeed ballCarrierrAcc  ballCarrierrOrientation  \\\n",
       "gameId     playId                                                              \n",
       "2022100908 3537                3.30            1.62                   225.64   \n",
       "           3537                1.02            0.86                   251.91   \n",
       "2022091103 3126                7.68            0.69                   353.90   \n",
       "           3126                3.36            2.05                   326.10   \n",
       "           3126                7.68            0.69                   353.90   \n",
       "...                             ...             ...                      ...   \n",
       "2022100207 2777                0.96            2.37                   270.02   \n",
       "2022102308 905                 3.52            2.91                   269.39   \n",
       "           905                 2.53            3.83                   295.88   \n",
       "           905                 3.52            2.91                   269.39   \n",
       "           905                 2.53            3.83                   295.88   \n",
       "\n",
       "                   ballCarrierDirectionAngle  \n",
       "gameId     playId                             \n",
       "2022100908 3537                       252.68  \n",
       "           3537                       244.70  \n",
       "2022091103 3126                         7.31  \n",
       "           3126                       281.94  \n",
       "           3126                         7.31  \n",
       "...                                      ...  \n",
       "2022100207 2777                        96.22  \n",
       "2022102308 905                        244.59  \n",
       "           905                        267.71  \n",
       "           905                        244.59  \n",
       "           905                        267.71  \n",
       "\n",
       "[32285 rows x 56 columns]"
      ]
     },
     "execution_count": 37,
     "metadata": {},
     "output_type": "execute_result"
    }
   ],
   "source": [
    "newpbp.set_index(['gameId','playId'])"
   ]
  },
  {
   "cell_type": "code",
   "execution_count": 38,
   "id": "7bf12191",
   "metadata": {},
   "outputs": [],
   "source": [
    "newpbp['tacklerMass'] = newpbp['tacklerWeight'] / 2.2"
   ]
  },
  {
   "cell_type": "code",
   "execution_count": 39,
   "id": "caa3a26d",
   "metadata": {},
   "outputs": [],
   "source": [
    "newpbp['ballCarrierMass'] = newpbp['ballCarrierWeight'] / 2.2\n",
    "        \n",
    "newpbp['differenceAngularDirection'] = abs(newpbp['tacklerDirectionAngle'] - newpbp['ballCarrierDirectionAngle'])"
   ]
  },
  {
   "cell_type": "code",
   "execution_count": 40,
   "id": "20c0a1e9",
   "metadata": {},
   "outputs": [],
   "source": [
    "newpbp['forceTackler'] = newpbp['tacklerMass'] * newpbp['tacklerAcc']\n",
    "newpbp['forceBallCarrier'] = newpbp['ballCarrierMass'] * newpbp['ballCarrierrAcc']"
   ]
  },
  {
   "cell_type": "code",
   "execution_count": 41,
   "id": "810470a8",
   "metadata": {},
   "outputs": [],
   "source": [
    "def percentOfBallCarrierForce(x):\n",
    "    percent_force_component = 0\n",
    "    if (x <= 90): \n",
    "        percent_force_component = np.cos(x * (np.pi/180)) * (-1)\n",
    "    elif ((x > 90) and (x <= 180)):\n",
    "        percent_force_component = np.sin((x-90) * (np.pi/180))\n",
    "    elif ((x > 180) and (x <= 270)):\n",
    "        percent_force_component = np.cos((x-180) * (np.pi/180))\n",
    "    else:\n",
    "        percent_force_component = np.sin((x-270) * (np.pi/180)) * (-1)\n",
    "    \n",
    "    return percent_force_component\n",
    "        "
   ]
  },
  {
   "cell_type": "code",
   "execution_count": 43,
   "id": "79bf56d7",
   "metadata": {},
   "outputs": [],
   "source": [
    "newpbp['addedForceComponent'] = newpbp['differenceAngularDirection'].apply(lambda x: percentOfBallCarrierForce(x)) * newpbp['forceBallCarrier']"
   ]
  },
  {
   "cell_type": "code",
   "execution_count": 58,
   "id": "42059f96",
   "metadata": {},
   "outputs": [],
   "source": [
    "newpbp['forceGeneratedSpotTackle'] = newpbp['addedForceComponent'] + newpbp['forceTackler']"
   ]
  },
  {
   "cell_type": "code",
   "execution_count": 45,
   "id": "87930cbe",
   "metadata": {},
   "outputs": [],
   "source": [
    "newpbp['firstDownLine'] = newpbp['absoluteYardlineNumber'] - newpbp['yardsToGo']"
   ]
  },
  {
   "cell_type": "code",
   "execution_count": 46,
   "id": "589d5596",
   "metadata": {},
   "outputs": [],
   "source": [
    "isPlayRight = newpbp['ballCarrierPlayDirection'] == True"
   ]
  },
  {
   "cell_type": "code",
   "execution_count": 49,
   "id": "6fbf3384",
   "metadata": {},
   "outputs": [],
   "source": [
    "newpbp['absoluteSpotOfTackle'] = newpbp['ballCarrierX'] - 10"
   ]
  },
  {
   "cell_type": "code",
   "execution_count": 50,
   "id": "3c43ea14",
   "metadata": {},
   "outputs": [
    {
     "name": "stderr",
     "output_type": "stream",
     "text": [
      "C:\\Users\\bwebe\\AppData\\Local\\Temp\\ipykernel_12000\\2473047615.py:6: SettingWithCopyWarning: \n",
      "A value is trying to be set on a copy of a slice from a DataFrame\n",
      "\n",
      "See the caveats in the documentation: https://pandas.pydata.org/pandas-docs/stable/user_guide/indexing.html#returning-a-view-versus-a-copy\n",
      "  newpbp['disFromFirstDown'][num] = (abs(item - newpbp['firstDownLine'][num]))\n",
      "C:\\Users\\bwebe\\AppData\\Local\\Temp\\ipykernel_12000\\2473047615.py:7: SettingWithCopyWarning: \n",
      "A value is trying to be set on a copy of a slice from a DataFrame\n",
      "\n",
      "See the caveats in the documentation: https://pandas.pydata.org/pandas-docs/stable/user_guide/indexing.html#returning-a-view-versus-a-copy\n",
      "  newpbp['disToFirstDown'][num] = item - newpbp['firstDownLine'][num]\n"
     ]
    }
   ],
   "source": [
    "newpbp['disFromFirstDown'] = 0\n",
    "newpbp['disToFirstDown'] = 0\n",
    "for num, item in enumerate(newpbp['absoluteSpotOfTackle']):\n",
    "    if (isPlayRight[num] == True):\n",
    "        item = -(item - 100)\n",
    "    newpbp['disFromFirstDown'][num] = (abs(item - newpbp['firstDownLine'][num]))\n",
    "    newpbp['disToFirstDown'][num] = item - newpbp['firstDownLine'][num]\n",
    "        "
   ]
  },
  {
   "cell_type": "code",
   "execution_count": 53,
   "id": "ea0d18e5",
   "metadata": {},
   "outputs": [
    {
     "name": "stderr",
     "output_type": "stream",
     "text": [
      "C:\\Users\\bwebe\\AppData\\Local\\Temp\\ipykernel_12000\\361282657.py:15: SettingWithCopyWarning: \n",
      "A value is trying to be set on a copy of a slice from a DataFrame\n",
      "\n",
      "See the caveats in the documentation: https://pandas.pydata.org/pandas-docs/stable/user_guide/indexing.html#returning-a-view-versus-a-copy\n",
      "  newpbp['diffInOrientationVsDirTackler'][num] = diffInODir\n"
     ]
    }
   ],
   "source": [
    "newpbp['diffInOrientationVsDirTackler'] = 0\n",
    "def OvsDir(O, Dir):\n",
    "    for num, item in enumerate(O):\n",
    "        diffInODir = 0\n",
    "        d = Dir[num]\n",
    "        if (abs(item - Dir[num]) >= 180):\n",
    "            if(item <= 100):\n",
    "                diffInODir = item + 360\n",
    "                diffInODir = abs(diffInODir - d)\n",
    "            else:\n",
    "                diffInODir = d + 360\n",
    "                diffInODir = abs(diffInODir - item)\n",
    "        else:\n",
    "            diffInODir = abs(item - d)\n",
    "        newpbp['diffInOrientationVsDirTackler'][num] = diffInODir\n",
    "        \n",
    "OvsDir(newpbp['tacklerOrientation'], newpbp['tacklerDirectionAngle'])"
   ]
  },
  {
   "cell_type": "code",
   "execution_count": 56,
   "id": "ff6723e0",
   "metadata": {},
   "outputs": [
    {
     "name": "stderr",
     "output_type": "stream",
     "text": [
      "C:\\Users\\bwebe\\AppData\\Local\\Temp\\ipykernel_12000\\4113721022.py:15: SettingWithCopyWarning: \n",
      "A value is trying to be set on a copy of a slice from a DataFrame\n",
      "\n",
      "See the caveats in the documentation: https://pandas.pydata.org/pandas-docs/stable/user_guide/indexing.html#returning-a-view-versus-a-copy\n",
      "  newpbp['tackleAngle'][num] = ta\n"
     ]
    }
   ],
   "source": [
    "newpbp['tackleAngle'] = 0\n",
    "def angleOfTackle(Ocarrier, dirTackler):\n",
    "    for num, item in enumerate(Ocarrier):\n",
    "        ta = 0\n",
    "        d = dirTackler[num]\n",
    "        if (abs(item - d) >= 180):\n",
    "            if (item >= 180):\n",
    "                d = d + 360\n",
    "                ta = abs(item - d)\n",
    "            elif (item <= 180):\n",
    "                item = item + 360\n",
    "                ta = abs(item - d)\n",
    "        else:\n",
    "            ta = abs(item - d)\n",
    "        newpbp['tackleAngle'][num] = ta\n",
    "        \n",
    "angleOfTackle(newpbp['ballCarrierrOrientation'], newpbp['tacklerDirectionAngle'])"
   ]
  },
  {
   "cell_type": "code",
   "execution_count": 59,
   "id": "2960f7b1",
   "metadata": {},
   "outputs": [
    {
     "data": {
      "text/plain": [
       "Index(['gameId', 'playId', 'ballCarrierId', 'tacklerNflId',\n",
       "       'ballCarrierDisplayName', 'ballCarrierPos', 'tacklerName', 'tacklerPos',\n",
       "       'quarter', 'down', 'yardsToGo', 'possessionTeam', 'defensiveTeam',\n",
       "       'playDescription', 'yardlineSide', 'yardlineNumber', 'gameClock',\n",
       "       'preSnapHomeScore', 'preSnapVisitorScore', 'passResult', 'passLength',\n",
       "       'penaltyYards', 'prePenaltyPlayResult', 'playResult', 'event',\n",
       "       'playNullifiedByPenalty', 'absoluteYardlineNumber', 'offenseFormation',\n",
       "       'defendersInTheBox', 'passProbability', 'preSnapHomeTeamWinProbability',\n",
       "       'preSnapVisitorTeamWinProbability', 'homeTeamWinProbabilityAdded',\n",
       "       'visitorTeamWinProbilityAdded', 'expectedPoints', 'expectedPointsAdded',\n",
       "       'tackle', 'assist', 'forcedFumble', 'pff_missedTackle',\n",
       "       'ballCarrierHeight', 'ballCarrierWeight', 'tacklerHeight',\n",
       "       'tacklerWeight', 'tacklerPlayDirection', 'tacklerX', 'tacklerY',\n",
       "       'tacklerSpeed', 'tacklerAcc', 'tacklerOrientation',\n",
       "       'tacklerDirectionAngle', 'ballCarrierPlayDirection', 'ballCarrierX',\n",
       "       'ballCarrierY', 'ballCarrierSpeed', 'ballCarrierrAcc',\n",
       "       'ballCarrierrOrientation', 'ballCarrierDirectionAngle', 'tacklerMass',\n",
       "       'ballCarrierMass', 'differenceAngularDirection', 'forceTackler',\n",
       "       'forceBallCarrier', 'addedForceComponent', 'disFromFirstDown',\n",
       "       'disToFirstDown', 'firstDownLine', 'absoluteSpotOfTackle',\n",
       "       'diffInOrientationVsDirTackler', 'tackleAngle',\n",
       "       'forceGeneratedSpotTackle'],\n",
       "      dtype='object')"
      ]
     },
     "execution_count": 59,
     "metadata": {},
     "output_type": "execute_result"
    }
   ],
   "source": [
    "newpbp.columns"
   ]
  },
  {
   "cell_type": "code",
   "execution_count": 60,
   "id": "8b8d1aef",
   "metadata": {},
   "outputs": [
    {
     "data": {
      "text/plain": [
       "0        365.751398\n",
       "1        240.906216\n",
       "2         41.032589\n",
       "3        382.025481\n",
       "4        302.602953\n",
       "            ...    \n",
       "32280    -82.333960\n",
       "32281    352.533045\n",
       "32282     92.375807\n",
       "32283    260.842080\n",
       "32284   -113.995803\n",
       "Name: forceGeneratedSpotTackle, Length: 32285, dtype: float64"
      ]
     },
     "execution_count": 60,
     "metadata": {},
     "output_type": "execute_result"
    }
   ],
   "source": [
    "newpbp['forceGeneratedSpotTackle']"
   ]
  },
  {
   "cell_type": "code",
   "execution_count": 61,
   "id": "108380fb",
   "metadata": {},
   "outputs": [],
   "source": [
    "newpbp['tackleDisFromCenter'] = abs(newpbp['tacklerY'] - 26.65)"
   ]
  },
  {
   "cell_type": "code",
   "execution_count": 62,
   "id": "b3b108ff",
   "metadata": {},
   "outputs": [],
   "source": [
    "newpbp.to_csv('newpbp.csv')"
   ]
  },
  {
   "cell_type": "code",
   "execution_count": 63,
   "id": "6ccc8adc",
   "metadata": {},
   "outputs": [
    {
     "data": {
      "text/html": [
       "<div>\n",
       "<style scoped>\n",
       "    .dataframe tbody tr th:only-of-type {\n",
       "        vertical-align: middle;\n",
       "    }\n",
       "\n",
       "    .dataframe tbody tr th {\n",
       "        vertical-align: top;\n",
       "    }\n",
       "\n",
       "    .dataframe thead th {\n",
       "        text-align: right;\n",
       "    }\n",
       "</style>\n",
       "<table border=\"1\" class=\"dataframe\">\n",
       "  <thead>\n",
       "    <tr style=\"text-align: right;\">\n",
       "      <th></th>\n",
       "      <th>gameId</th>\n",
       "      <th>playId</th>\n",
       "      <th>ballCarrierId</th>\n",
       "      <th>tacklerNflId</th>\n",
       "      <th>ballCarrierDisplayName</th>\n",
       "      <th>ballCarrierPos</th>\n",
       "      <th>tacklerName</th>\n",
       "      <th>tacklerPos</th>\n",
       "      <th>quarter</th>\n",
       "      <th>down</th>\n",
       "      <th>...</th>\n",
       "      <th>forceBallCarrier</th>\n",
       "      <th>addedForceComponent</th>\n",
       "      <th>disFromFirstDown</th>\n",
       "      <th>disToFirstDown</th>\n",
       "      <th>firstDownLine</th>\n",
       "      <th>absoluteSpotOfTackle</th>\n",
       "      <th>diffInOrientationVsDirTackler</th>\n",
       "      <th>tackleAngle</th>\n",
       "      <th>forceGeneratedSpotTackle</th>\n",
       "      <th>tackleDisFromCenter</th>\n",
       "    </tr>\n",
       "  </thead>\n",
       "  <tbody>\n",
       "    <tr>\n",
       "      <th>0</th>\n",
       "      <td>2022100908</td>\n",
       "      <td>3537</td>\n",
       "      <td>48723</td>\n",
       "      <td>43306.0</td>\n",
       "      <td>Parker Hesse</td>\n",
       "      <td>TE</td>\n",
       "      <td>Keanu Neal</td>\n",
       "      <td>FS</td>\n",
       "      <td>4</td>\n",
       "      <td>1</td>\n",
       "      <td>...</td>\n",
       "      <td>192.190909</td>\n",
       "      <td>191.969579</td>\n",
       "      <td>6.48</td>\n",
       "      <td>-6.48</td>\n",
       "      <td>59</td>\n",
       "      <td>52.52</td>\n",
       "      <td>2.15</td>\n",
       "      <td>150.21</td>\n",
       "      <td>365.751398</td>\n",
       "      <td>0.79</td>\n",
       "    </tr>\n",
       "    <tr>\n",
       "      <th>1</th>\n",
       "      <td>2022100908</td>\n",
       "      <td>3537</td>\n",
       "      <td>48723</td>\n",
       "      <td>43306.0</td>\n",
       "      <td>Parker Hesse</td>\n",
       "      <td>TE</td>\n",
       "      <td>Keanu Neal</td>\n",
       "      <td>FS</td>\n",
       "      <td>4</td>\n",
       "      <td>1</td>\n",
       "      <td>...</td>\n",
       "      <td>102.027273</td>\n",
       "      <td>-48.730148</td>\n",
       "      <td>8.39</td>\n",
       "      <td>-8.39</td>\n",
       "      <td>59</td>\n",
       "      <td>50.61</td>\n",
       "      <td>5.39</td>\n",
       "      <td>68.68</td>\n",
       "      <td>240.906216</td>\n",
       "      <td>0.81</td>\n",
       "    </tr>\n",
       "    <tr>\n",
       "      <th>2</th>\n",
       "      <td>2022091103</td>\n",
       "      <td>3126</td>\n",
       "      <td>52457</td>\n",
       "      <td>44872.0</td>\n",
       "      <td>Chase Claypool</td>\n",
       "      <td>WR</td>\n",
       "      <td>Chidobe Awuzie</td>\n",
       "      <td>CB</td>\n",
       "      <td>4</td>\n",
       "      <td>1</td>\n",
       "      <td>...</td>\n",
       "      <td>71.195455</td>\n",
       "      <td>-69.149229</td>\n",
       "      <td>4.25</td>\n",
       "      <td>4.25</td>\n",
       "      <td>66</td>\n",
       "      <td>70.25</td>\n",
       "      <td>95.36</td>\n",
       "      <td>27.18</td>\n",
       "      <td>41.032589</td>\n",
       "      <td>15.49</td>\n",
       "    </tr>\n",
       "    <tr>\n",
       "      <th>3</th>\n",
       "      <td>2022091103</td>\n",
       "      <td>3126</td>\n",
       "      <td>52457</td>\n",
       "      <td>44872.0</td>\n",
       "      <td>Chase Claypool</td>\n",
       "      <td>WR</td>\n",
       "      <td>Chidobe Awuzie</td>\n",
       "      <td>CB</td>\n",
       "      <td>4</td>\n",
       "      <td>1</td>\n",
       "      <td>...</td>\n",
       "      <td>211.522727</td>\n",
       "      <td>209.407299</td>\n",
       "      <td>3.34</td>\n",
       "      <td>-3.34</td>\n",
       "      <td>66</td>\n",
       "      <td>62.66</td>\n",
       "      <td>169.29</td>\n",
       "      <td>143.95</td>\n",
       "      <td>382.025481</td>\n",
       "      <td>24.90</td>\n",
       "    </tr>\n",
       "    <tr>\n",
       "      <th>4</th>\n",
       "      <td>2022091103</td>\n",
       "      <td>3126</td>\n",
       "      <td>52457</td>\n",
       "      <td>47855.0</td>\n",
       "      <td>Chase Claypool</td>\n",
       "      <td>WR</td>\n",
       "      <td>Germaine Pratt</td>\n",
       "      <td>OLB</td>\n",
       "      <td>4</td>\n",
       "      <td>1</td>\n",
       "      <td>...</td>\n",
       "      <td>71.195455</td>\n",
       "      <td>-22.578865</td>\n",
       "      <td>4.25</td>\n",
       "      <td>4.25</td>\n",
       "      <td>66</td>\n",
       "      <td>70.25</td>\n",
       "      <td>25.27</td>\n",
       "      <td>84.92</td>\n",
       "      <td>302.602953</td>\n",
       "      <td>7.97</td>\n",
       "    </tr>\n",
       "  </tbody>\n",
       "</table>\n",
       "<p>5 rows × 72 columns</p>\n",
       "</div>"
      ],
      "text/plain": [
       "       gameId  playId  ballCarrierId  tacklerNflId ballCarrierDisplayName  \\\n",
       "0  2022100908    3537          48723       43306.0           Parker Hesse   \n",
       "1  2022100908    3537          48723       43306.0           Parker Hesse   \n",
       "2  2022091103    3126          52457       44872.0         Chase Claypool   \n",
       "3  2022091103    3126          52457       44872.0         Chase Claypool   \n",
       "4  2022091103    3126          52457       47855.0         Chase Claypool   \n",
       "\n",
       "  ballCarrierPos     tacklerName tacklerPos  quarter  down  ...  \\\n",
       "0             TE      Keanu Neal         FS        4     1  ...   \n",
       "1             TE      Keanu Neal         FS        4     1  ...   \n",
       "2             WR  Chidobe Awuzie         CB        4     1  ...   \n",
       "3             WR  Chidobe Awuzie         CB        4     1  ...   \n",
       "4             WR  Germaine Pratt        OLB        4     1  ...   \n",
       "\n",
       "   forceBallCarrier addedForceComponent disFromFirstDown disToFirstDown  \\\n",
       "0        192.190909          191.969579             6.48          -6.48   \n",
       "1        102.027273          -48.730148             8.39          -8.39   \n",
       "2         71.195455          -69.149229             4.25           4.25   \n",
       "3        211.522727          209.407299             3.34          -3.34   \n",
       "4         71.195455          -22.578865             4.25           4.25   \n",
       "\n",
       "  firstDownLine  absoluteSpotOfTackle diffInOrientationVsDirTackler  \\\n",
       "0            59                 52.52                          2.15   \n",
       "1            59                 50.61                          5.39   \n",
       "2            66                 70.25                         95.36   \n",
       "3            66                 62.66                        169.29   \n",
       "4            66                 70.25                         25.27   \n",
       "\n",
       "   tackleAngle  forceGeneratedSpotTackle tackleDisFromCenter  \n",
       "0       150.21                365.751398                0.79  \n",
       "1        68.68                240.906216                0.81  \n",
       "2        27.18                 41.032589               15.49  \n",
       "3       143.95                382.025481               24.90  \n",
       "4        84.92                302.602953                7.97  \n",
       "\n",
       "[5 rows x 72 columns]"
      ]
     },
     "execution_count": 63,
     "metadata": {},
     "output_type": "execute_result"
    }
   ],
   "source": [
    "newpbp.head()"
   ]
  },
  {
   "cell_type": "code",
   "execution_count": 87,
   "id": "f76c6441",
   "metadata": {},
   "outputs": [
    {
     "name": "stdout",
     "output_type": "stream",
     "text": [
      "                 Generalized Linear Model Regression Results                  \n",
      "==============================================================================\n",
      "Dep. Variable:                     ff   No. Observations:                 7982\n",
      "Model:                            GLM   Df Residuals:                     7959\n",
      "Model Family:                Binomial   Df Model:                           22\n",
      "Link Function:                  Logit   Scale:                          1.0000\n",
      "Method:                          IRLS   Log-Likelihood:                -427.01\n",
      "Date:                Sun, 31 Dec 2023   Deviance:                       854.03\n",
      "Time:                        17:27:41   Pearson chi2:                 8.73e+03\n",
      "No. Iterations:                     8   Pseudo R-squ. (CS):            0.01644\n",
      "Covariance Type:            nonrobust                                         \n",
      "=================================================================================================\n",
      "                                    coef    std err          z      P>|z|      [0.025      0.975]\n",
      "-------------------------------------------------------------------------------------------------\n",
      "Intercept                        -0.1478      3.230     -0.046      0.964      -6.478       6.183\n",
      "fGenSpotTackle                    0.0039      0.001      6.414      0.000       0.003       0.005\n",
      "tackleAngle                      -0.0043      0.002     -1.929      0.054      -0.009       7e-05\n",
      "disFromCenter                    -0.0162      0.015     -1.110      0.267      -0.045       0.012\n",
      "disToFirstDown                    0.0026      0.009      0.280      0.780      -0.016       0.021\n",
      "disFromFirstDown                 -0.0079      0.013     -0.589      0.556      -0.034       0.018\n",
      "diffInOrientationVsDirTackler    -0.0017      0.002     -0.791      0.429      -0.006       0.002\n",
      "passProb                          0.1825      0.492      0.371      0.711      -0.782       1.146\n",
      "diffAcc                           0.8243      0.250      3.299      0.001       0.335       1.314\n",
      "diffSpeed                         0.0376      0.117      0.321      0.748      -0.192       0.268\n",
      "diffForce                        -0.0070      0.003     -2.752      0.006      -0.012      -0.002\n",
      "ydsToGo                          -0.0239      0.030     -0.789      0.430      -0.083       0.035\n",
      "ep                                0.1271      0.073      1.741      0.082      -0.016       0.270\n",
      "diffWinProb                       0.3528      0.361      0.977      0.329      -0.355       1.061\n",
      "ballCarrierSpeed                  0.2727      0.089      3.079      0.002       0.099       0.446\n",
      "tacklerSpeed                      0.3263      0.087      3.772      0.000       0.157       0.496\n",
      "ballCarrierMass                  -0.0323      0.027     -1.220      0.222      -0.084       0.020\n",
      "tacklerMass                      -0.0189      0.017     -1.117      0.264      -0.052       0.014\n",
      "forceTackler                      0.0040      0.006      0.689      0.491      -0.007       0.015\n",
      "ballCarrierForce                  0.0063      0.009      0.729      0.466      -0.011       0.023\n",
      "tacklerAcc                       -0.7609      0.567     -1.342      0.180      -1.872       0.350\n",
      "ballCarrierAcc                   -0.7452      0.836     -0.892      0.372      -2.383       0.893\n",
      "absSpotTackle                    -0.0015      0.005     -0.319      0.750      -0.011       0.008\n",
      "=================================================================================================\n"
     ]
    }
   ],
   "source": [
    "formula = 'ff ~ fGenSpotTackle+tackleAngle+disFromCenter+disToFirstDown+disFromFirstDown+diffInOrientationVsDirTackler+passProb+diffAcc+diffSpeed+diffForce+ydsToGo+ep+diffWinProb+ballCarrierSpeed+tacklerSpeed+ballCarrierMass+tacklerMass+forceTackler+ballCarrierForce+tacklerAcc+ballCarrierAcc+absSpotTackle'\n",
    "model = smf.glm(formula = formula, data=pbp, family=sm.families.Binomial())\n",
    "result = model.fit()\n",
    "print(result.summary())"
   ]
  },
  {
   "cell_type": "code",
   "execution_count": 83,
   "id": "640ba279",
   "metadata": {},
   "outputs": [],
   "source": [
    "fGenSpotTackle = pbp['forceGeneratedSpotTackle']\n",
    "tackleAngle = pbp['tackleAngle']\n",
    "disFromCenter = pbp['tackleDisFromCenter']\n",
    "disToFirstDown = pbp['disToFirstDown']\n",
    "disFromFirstDown = pbp['disFromFirstDown']\n",
    "diffInOrientationVsDirTackler = pbp['diffInOrientationVsDirTackler']\n",
    "passProb = pbp['passProbability']\n",
    "diffAcc = pbp['diffAcc']\n",
    "diffSpeed = pbp['diffSpeed']\n",
    "diffForce = pbp['diffForce']\n",
    "ydsToGo = pbp['yardsToGo']\n",
    "ep = pbp['expectedPoints']\n",
    "diffWinProb = pbp['diffPreSnapWinProbability']\n",
    "ballCarrierSpeed = pbp['ballCarrierSpeed']\n",
    "tacklerSpeed = pbp['tacklerSpeed']\n",
    "ballCarrierMass = pbp['ballCarrierMass']\n",
    "tacklerMass = pbp['tacklerMass']\n",
    "forceTackler = pbp['forceTackler']\n",
    "ballCarrierForce = pbp['forceBallCarrier']\n",
    "tacklerAcc = pbp['tacklerAcc']\n",
    "ballCarrierAcc = pbp['ballCarrierAcc']\n",
    "absSpotTackle = pbp['absoluteSpotOfTackle']"
   ]
  }
 ],
 "metadata": {
  "kernelspec": {
   "display_name": "Python 3 (ipykernel)",
   "language": "python",
   "name": "python3"
  },
  "language_info": {
   "codemirror_mode": {
    "name": "ipython",
    "version": 3
   },
   "file_extension": ".py",
   "mimetype": "text/x-python",
   "name": "python",
   "nbconvert_exporter": "python",
   "pygments_lexer": "ipython3",
   "version": "3.9.12"
  }
 },
 "nbformat": 4,
 "nbformat_minor": 5
}
